{
  "nbformat": 4,
  "nbformat_minor": 0,
  "metadata": {
    "colab": {
      "provenance": []
    },
    "kernelspec": {
      "name": "python3",
      "display_name": "Python 3"
    }
  },
  "cells": [
    {
      "cell_type": "markdown",
      "metadata": {
        "id": "gZrXosczhbAn"
      },
      "source": [
        "\n",
        "# Regressão Linear, Ridge e Lasso\n",
        "\n",
        "\n",
        "Realiza uma análise comparativa entre a Regressão Linear, o Ridge e o Lasso no Boston Housing Dataset.\n",
        "\n",
        "Baseado no livro: Andreas C. Müller, Sarah Guido (2016)\n",
        "*Introduction to Machine Learning with Python: A Guide for Data Scientists 1st Edition*.\n",
        "\n",
        "\n",
        "Este notebook foi desenvolvido para o ambiente GOOGLE COLAB ([colab.research.google.com](https://colab.research.google.com)).\n",
        "\n",
        "Prof. Cristiano Carvalho\n",
        "\n",
        "-------------------------------------------------------------------------------\n",
        "\n",
        "### Base de dados: Boston Housing dataset\n",
        "\n",
        "http://www.cs.toronto.edu/~delve/data/boston/bostonDetail.html\n",
        "\n",
        "506 registros\n",
        "\n",
        "13 atributos + label\n",
        "\n"
      ]
    },
    {
      "cell_type": "code",
      "metadata": {
        "id": "xvDWWf3Bg7Jv",
        "colab": {
          "base_uri": "https://localhost:8080/"
        },
        "outputId": "70059c1b-5367-4c13-9dea-f01f4a6383ff"
      },
      "source": [
        "# from sklearn.datasets import load_boston\n",
        "import pandas as pd\n",
        "\n",
        "from sklearn.model_selection import train_test_split\n",
        "from sklearn.preprocessing import MinMaxScaler, PolynomialFeatures\n",
        "from sklearn.linear_model import LinearRegression, Ridge, Lasso\n",
        "\n",
        "import numpy as np\n",
        "import matplotlib.pyplot as plt\n",
        "\n",
        "# boston = load_boston()\n",
        "# X = boston.data\n",
        "data_url = \"http://lib.stat.cmu.edu/datasets/boston\"\n",
        "raw_df = pd.read_csv(data_url, sep=\"\\s+\", skiprows=22, header=None)\n",
        "X = np.hstack([raw_df.values[::2, :], raw_df.values[1::2, :2]])\n",
        "y = raw_df.values[1::2, 2]\n",
        "\n",
        "print(\"Numero de atributos original:\")\n",
        "print(X.shape,y.shape)"
      ],
      "execution_count": null,
      "outputs": [
        {
          "output_type": "stream",
          "name": "stdout",
          "text": [
            "Numero de atributos original:\n",
            "(506, 13) (506,)\n"
          ]
        }
      ]
    },
    {
      "cell_type": "code",
      "source": [
        "# X"
      ],
      "metadata": {
        "id": "zn9MNpYRo4wZ"
      },
      "execution_count": null,
      "outputs": []
    },
    {
      "cell_type": "code",
      "source": [
        "# y"
      ],
      "metadata": {
        "id": "HtG7iJVjpBdP"
      },
      "execution_count": null,
      "outputs": []
    },
    {
      "cell_type": "code",
      "metadata": {
        "id": "z10icBAulfx6",
        "colab": {
          "base_uri": "https://localhost:8080/"
        },
        "outputId": "6709cb2f-01bf-4611-8ef9-9183c72ade35"
      },
      "source": [
        "# standardScaler()\n",
        "X = MinMaxScaler().fit_transform(X) # Quando trabalhamos com dados números em escalas diferentes, alguns algoritmos podem sofrer com a falta de normalização desses números\n",
        "X"
      ],
      "execution_count": null,
      "outputs": [
        {
          "output_type": "execute_result",
          "data": {
            "text/plain": [
              "array([[0.00000000e+00, 1.80000000e-01, 6.78152493e-02, ...,\n",
              "        2.87234043e-01, 1.00000000e+00, 8.96799117e-02],\n",
              "       [2.35922539e-04, 0.00000000e+00, 2.42302053e-01, ...,\n",
              "        5.53191489e-01, 1.00000000e+00, 2.04470199e-01],\n",
              "       [2.35697744e-04, 0.00000000e+00, 2.42302053e-01, ...,\n",
              "        5.53191489e-01, 9.89737254e-01, 6.34657837e-02],\n",
              "       ...,\n",
              "       [6.11892474e-04, 0.00000000e+00, 4.20454545e-01, ...,\n",
              "        8.93617021e-01, 1.00000000e+00, 1.07891832e-01],\n",
              "       [1.16072990e-03, 0.00000000e+00, 4.20454545e-01, ...,\n",
              "        8.93617021e-01, 9.91300620e-01, 1.31070640e-01],\n",
              "       [4.61841693e-04, 0.00000000e+00, 4.20454545e-01, ...,\n",
              "        8.93617021e-01, 1.00000000e+00, 1.69701987e-01]])"
            ]
          },
          "metadata": {},
          "execution_count": 62
        }
      ]
    },
    {
      "cell_type": "code",
      "metadata": {
        "id": "hEDh8euQmAB4",
        "colab": {
          "base_uri": "https://localhost:8080/"
        },
        "outputId": "4616873d-d114-427a-9d87-4bdcbffaa59b"
      },
      "source": [
        "y[0:5]"
      ],
      "execution_count": null,
      "outputs": [
        {
          "output_type": "execute_result",
          "data": {
            "text/plain": [
              "array([24. , 21.6, 34.7, 33.4, 36.2])"
            ]
          },
          "metadata": {},
          "execution_count": 63
        }
      ]
    },
    {
      "cell_type": "markdown",
      "metadata": {
        "id": "ETJFi2qY0LvR"
      },
      "source": [
        "### Regressão Linear\n",
        "\n",
        "\n",
        "Os passos para indução de um modelo são:\n",
        "\n",
        "1.   Instanciar o modelo: ``` LinearRegression()```\n",
        "2.   Treinar o modelo: ```fit()```\n",
        "\n",
        "O método ```score()``` retorna o coeficiente R^2 de predição.\n"
      ]
    },
    {
      "cell_type": "code",
      "metadata": {
        "id": "YwVV9qBzl9Jy",
        "colab": {
          "base_uri": "https://localhost:8080/"
        },
        "outputId": "1cb74c4c-861d-4309-d9ae-0a371cb0a58a"
      },
      "source": [
        "X_train, X_test, y_train, y_test = train_test_split(X, y, random_state=42)\n",
        "\n",
        "lr = LinearRegression().fit(X_train, y_train)\n",
        "\n",
        "print(\"Regressão Linear (original)\")\n",
        "print(\"Coeficiente R^2 na base de treinamento: {:.2f}\".format(lr.score(X_train, y_train)))"
      ],
      "execution_count": null,
      "outputs": [
        {
          "output_type": "stream",
          "name": "stdout",
          "text": [
            "Regressão Linear (original)\n",
            "Coeficiente R^2 na base de treinamento: 0.75\n"
          ]
        }
      ]
    },
    {
      "cell_type": "code",
      "metadata": {
        "id": "qt1l3dwBn5fc",
        "colab": {
          "base_uri": "https://localhost:8080/"
        },
        "outputId": "93536e96-d443-410b-b3c0-c331c80f0ddb"
      },
      "source": [
        "print(\"Coeficiente R^2 na base de teste: {:.2f}\".format(lr.score(X_test, y_test)))"
      ],
      "execution_count": null,
      "outputs": [
        {
          "output_type": "stream",
          "name": "stdout",
          "text": [
            "Coeficiente R^2 na base de teste: 0.68\n"
          ]
        }
      ]
    },
    {
      "cell_type": "code",
      "source": [
        "lr.coef_"
      ],
      "metadata": {
        "id": "xGCenzxWE29u",
        "colab": {
          "base_uri": "https://localhost:8080/"
        },
        "outputId": "b9433e0d-1a00-40e3-ef56-7cde84e412f8"
      },
      "execution_count": null,
      "outputs": [
        {
          "output_type": "execute_result",
          "data": {
            "text/plain": [
              "array([-11.41684968,   2.95517751,   1.33287607,   2.77350326,\n",
              "        -7.89207097,  22.80053112,  -0.89798872, -15.40519074,\n",
              "         5.92850858,  -5.21744086,  -8.67735568,   5.22907382,\n",
              "       -18.75925615])"
            ]
          },
          "metadata": {},
          "execution_count": 66
        }
      ]
    },
    {
      "cell_type": "code",
      "source": [
        "lr.intercept_"
      ],
      "metadata": {
        "id": "xRoTqhDIFcrf",
        "colab": {
          "base_uri": "https://localhost:8080/"
        },
        "outputId": "90dc20ac-c7c8-446a-acfc-487efa40881b"
      },
      "execution_count": null,
      "outputs": [
        {
          "output_type": "execute_result",
          "data": {
            "text/plain": [
              "23.427198204284554"
            ]
          },
          "metadata": {},
          "execution_count": 67
        }
      ]
    },
    {
      "cell_type": "code",
      "metadata": {
        "id": "3JkqgiCgHTUp",
        "colab": {
          "base_uri": "https://localhost:8080/"
        },
        "outputId": "c269cc9a-493c-4f92-bac1-f186aca8397e"
      },
      "source": [
        "print(\"Número de atributos usados: {}\".format(np.sum(lr.coef_ != 0)))"
      ],
      "execution_count": null,
      "outputs": [
        {
          "output_type": "stream",
          "name": "stdout",
          "text": [
            "Número de atributos usados: 13\n"
          ]
        }
      ]
    },
    {
      "cell_type": "code",
      "metadata": {
        "id": "rc6IZXqvn_NB"
      },
      "source": [
        "# print(\"Descrição do modelo: \")\n",
        "# print([round(v,2) for v in lr.coef_])\n",
        "\n",
        "# print(round(lr.intercept_,2))"
      ],
      "execution_count": null,
      "outputs": []
    },
    {
      "cell_type": "markdown",
      "metadata": {
        "id": "djlJKy_YpGHh"
      },
      "source": [
        "### Podemos derivar novas features, inclusive transformar os dados em polinomiais (xˆ2 * x + C, etc)\n",
        "\n",
        "### Mas e se tivermos features redundantes ou de baixa contribuição para o modelo?"
      ]
    },
    {
      "cell_type": "code",
      "metadata": {
        "id": "PeHRBHNQsk_G",
        "colab": {
          "base_uri": "https://localhost:8080/"
        },
        "outputId": "a9d056bc-b0fd-4c1e-9e7e-c4d10145a69e"
      },
      "source": [
        "# O PolynomialFeaures() aumenta a dimensão dos dados produzindo novos atributos\n",
        "# que são combinações lineares dos dados originais.\n",
        "# De um jeito simples a gente consegue gerar novas features, mas temos desvantagens com isso. Lembra qual?\n",
        "\n",
        "X = PolynomialFeatures(degree=2, include_bias=False).fit_transform(X)\n",
        "\n",
        "print(\"Polynomial Features (atributos redundantes):\")\n",
        "print(X.shape)\n"
      ],
      "execution_count": null,
      "outputs": [
        {
          "output_type": "stream",
          "name": "stdout",
          "text": [
            "Polynomial Features (atributos redundantes):\n",
            "(506, 104)\n"
          ]
        }
      ]
    },
    {
      "cell_type": "code",
      "metadata": {
        "id": "R4_bnX5ZKvmR"
      },
      "source": [
        "X"
      ],
      "execution_count": null,
      "outputs": []
    },
    {
      "cell_type": "code",
      "metadata": {
        "id": "R1vwYYqg0MWS",
        "colab": {
          "base_uri": "https://localhost:8080/"
        },
        "outputId": "673ea0a9-0ed9-4fd2-fe5f-467b5ec2b1ce"
      },
      "source": [
        "X_train, X_test, y_train, y_test = train_test_split(X, y, random_state=42)\n",
        "lr = LinearRegression().fit(X_train, y_train)\n",
        "\n",
        "print(\"Regressão Linear (com atributos redundantes)\")\n",
        "print(\"Coeficiente R^2 na base de treinamento: {:.2f}\".format(lr.score(X_train, y_train)))\n",
        "print(\"Coeficiente R^2 na base de teste: {:.2f}\".format(lr.score(X_test, y_test)))\n",
        "print(\"Número de atributos usados: {}\".format(np.sum(lr.coef_ != 0)))"
      ],
      "execution_count": null,
      "outputs": [
        {
          "output_type": "stream",
          "name": "stdout",
          "text": [
            "Regressão Linear (com atributos redundantes)\n",
            "Coeficiente R^2 na base de treinamento: 0.94\n",
            "Coeficiente R^2 na base de teste: 0.78\n",
            "Número de atributos usados: 104\n"
          ]
        }
      ]
    },
    {
      "cell_type": "markdown",
      "metadata": {
        "id": "3vlTLXyVhq3k"
      },
      "source": [
        "### Ridge (Regressão linear com regularização L2)\n",
        "\n",
        "Força uma redução do valor dos coeficientes, penalizando coeficientes grandes que não contribuem significativamente para a explicação da variância do sinal.\n",
        "\n",
        "A força da regularização é dada pelo atributo ```alpha```, com valor *default* igual a 1.\n"
      ]
    },
    {
      "cell_type": "code",
      "metadata": {
        "id": "7-nqvNMOhtBk",
        "colab": {
          "base_uri": "https://localhost:8080/"
        },
        "outputId": "b6f453f9-fc77-4eec-c1c4-65d01a629346"
      },
      "source": [
        "ridge = Ridge().fit(X_train, y_train)\n",
        "print(\"Ridge alpha=1\")\n",
        "print(\"Coeficiente R^2 na base de treinamento: {:.2f}\".format(ridge.score(X_train, y_train)))\n",
        "print(\"Coeficiente R^2 na base de teste: {:.2f}\".format(ridge.score(X_test, y_test)))\n",
        "print(\"Número de atributos usados: {}\".format(np.sum(ridge.coef_ != 0)))\n",
        "\n",
        "ridge10 = Ridge(alpha=10).fit(X_train, y_train)\n",
        "print(\"Ridge alpha=10\")\n",
        "print(\"Coeficiente R^2 na base de treinamento: {:.2f}\".format(ridge10.score(X_train, y_train)))\n",
        "print(\"Coeficiente R^2 na base de teste: {:.2f}\".format(ridge10.score(X_test, y_test)))\n",
        "print(\"Número de atributos usados: {}\".format(np.sum(ridge10.coef_ != 0)))\n",
        "\n",
        "\n",
        "ridge01 = Ridge(alpha=0.1).fit(X_train, y_train)\n",
        "print(\"Ridge alpha=0.1\")\n",
        "print(\"Coeficiente R^2 na base de treinamento: {:.2f}\".format(ridge01.score(X_train, y_train)))\n",
        "print(\"Coeficiente R^2 na base de teste: {:.2f}\".format(ridge01.score(X_test, y_test)))\n",
        "print(\"Número de atributos usados: {}\".format(np.sum(ridge01.coef_ != 0)))\n",
        "\n"
      ],
      "execution_count": null,
      "outputs": [
        {
          "output_type": "stream",
          "name": "stdout",
          "text": [
            "Ridge alpha=1\n",
            "Coeficiente R^2 na base de treinamento: 0.87\n",
            "Coeficiente R^2 na base de teste: 0.81\n",
            "Número de atributos usados: 104\n",
            "Ridge alpha=10\n",
            "Coeficiente R^2 na base de treinamento: 0.77\n",
            "Coeficiente R^2 na base de teste: 0.73\n",
            "Número de atributos usados: 104\n",
            "Ridge alpha=0.1\n",
            "Coeficiente R^2 na base de treinamento: 0.92\n",
            "Coeficiente R^2 na base de teste: 0.82\n",
            "Número de atributos usados: 104\n"
          ]
        }
      ]
    },
    {
      "cell_type": "markdown",
      "metadata": {
        "id": "yPOeRRg115-h"
      },
      "source": [
        "### Comparação da Regressão linear e Ridge\n",
        "\n",
        "O gráfico exibe a magnitude dos coeficientes obtidos por cada método. Pode-se observar como a regularização afeta a magnitude dos coeficientes do Ridge como um todo, mas sem zerar coeficientes de uma forma geral."
      ]
    },
    {
      "cell_type": "code",
      "metadata": {
        "id": "4qFXjfPeg9XZ",
        "colab": {
          "base_uri": "https://localhost:8080/"
        },
        "outputId": "a2a0935b-ad54-49a3-b862-7badc65bf596"
      },
      "source": [
        "max(abs(ridge01.coef_)), max(abs(ridge.coef_)), max(abs(ridge10.coef_))"
      ],
      "execution_count": null,
      "outputs": [
        {
          "output_type": "execute_result",
          "data": {
            "text/plain": [
              "(26.23617254240907, 18.061844695407686, 7.818432973533683)"
            ]
          },
          "metadata": {},
          "execution_count": 73
        }
      ]
    },
    {
      "cell_type": "code",
      "metadata": {
        "id": "2cAlohxg18KF",
        "colab": {
          "base_uri": "https://localhost:8080/",
          "height": 542
        },
        "outputId": "1cbccbe0-8087-41c9-cb4f-cb7e31a28eab"
      },
      "source": [
        "# matplotlib https://matplotlib.org/stable/gallery/index.html\n",
        "\n",
        "plt.figure(figsize=(9, 6))\n",
        "plt.plot(ridge.coef_, 's', label=\"Ridge alpha=1\")\n",
        "plt.plot(ridge10.coef_, '^', label=\"Ridge alpha=10\")\n",
        "plt.plot(ridge01.coef_, 'v', label=\"Ridge alpha=0.1\")\n",
        "plt.plot(lr.coef_, 'o', label=\"Regressão linear\")\n",
        "plt.xlabel(\"Coeficiente\")\n",
        "plt.ylabel(\"Magnitude\")\n",
        "plt.hlines(0, 0, len(lr.coef_))\n",
        "plt.ylim(-25, 25)\n",
        "plt.legend();\n"
      ],
      "execution_count": null,
      "outputs": [
        {
          "output_type": "display_data",
          "data": {
            "text/plain": [
              "<Figure size 900x600 with 1 Axes>"
            ],
            "image/png": "[encoded data removed]"
          },
          "metadata": {}
        }
      ]
    },
    {
      "cell_type": "markdown",
      "metadata": {
        "id": "YM97-e-0hw97"
      },
      "source": [
        "### LASSO (Regressão linear com regularização L1)\n",
        "\n",
        "Força uma redução do valor dos coeficientes, podendo zerar diversos coeficientes cujos atributos não contribuem significativamente para a previsão. Muito utilizado no apoio à tarefa de seleção de atributos (*feature selection*).\n",
        "\n",
        "A força da regularização é dada pelo atributo ```alpha```, com valor *default* igual a 1. ```Alpha=0``` resulta na regressão linear tradicional.\n"
      ]
    },
    {
      "cell_type": "code",
      "metadata": {
        "id": "7s_dXacHhyDd"
      },
      "source": [
        "lasso = Lasso().fit(X_train, y_train)\n",
        "print(\"Lasso alpha=1\")\n",
        "print(\"Acurácia na base de treinamento: {:.2f}\".format(lasso.score(X_train, y_train)))\n",
        "print(\"Acurácia na base de teste: {:.2f}\".format(lasso.score(X_test, y_test)))\n",
        "print(\"Número de atributos usados: {}\".format(np.sum(lasso.coef_ != 0)))\n",
        "\n",
        "\n",
        "lasso01 = Lasso(alpha=0.1, max_iter=100000).fit(X_train, y_train)\n",
        "print(\"Lasso alpha=.1\")\n",
        "print(\"Acurácia na base de treinamento: {:.2f}\".format(lasso01.score(X_train, y_train)))\n",
        "print(\"Acurácia na base de teste: {:.2f}\".format(lasso01.score(X_test, y_test)))\n",
        "print(\"Número de atributos usados: {}\".format(np.sum(lasso01.coef_ != 0)))\n",
        "\n",
        "\n",
        "lasso001 = Lasso(alpha=0.01, max_iter=100000).fit(X_train, y_train)\n",
        "print(\"Lasso alpha=.01\")\n",
        "print(\"Acurácia na base de treinamento: {:.2f}\".format(lasso001.score(X_train, y_train)))\n",
        "print(\"Acurácia na base de teste: {:.2f}\".format(lasso001.score(X_test, y_test)))\n",
        "print(\"Número de atributos usados: {}\".format(np.sum(lasso001.coef_ != 0)))\n",
        "\n",
        "lasso0001 = Lasso(alpha=0.001, max_iter=100000).fit(X_train, y_train)\n",
        "print(\"Lasso alpha=.001\")\n",
        "print(\"Acurácia na base de treinamento: {:.2f}\".format(lasso0001.score(X_train, y_train)))\n",
        "print(\"Acurácia na base de teste: {:.2f}\".format(lasso0001.score(X_test, y_test)))\n",
        "print(\"Número de atributos usados: {}\".format(np.sum(lasso0001.coef_ != 0)))\n",
        "\n"
      ],
      "execution_count": null,
      "outputs": []
    },
    {
      "cell_type": "markdown",
      "source": [
        "Observe o que houve com o número de atributos usados em cada grau de regularização"
      ],
      "metadata": {
        "id": "1SZT_-DjnzLq"
      }
    },
    {
      "cell_type": "markdown",
      "metadata": {
        "id": "LhVLCHdg3MPV"
      },
      "source": [
        "\n",
        "O gráfico exibe a magnitude dos coeficientes obtidos por cada método."
      ]
    },
    {
      "cell_type": "code",
      "metadata": {
        "id": "e2CUpsfCiYSd"
      },
      "source": [
        "max(abs(lasso.coef_)), max(abs(lasso001.coef_)), max(abs(lasso0001.coef_))"
      ],
      "execution_count": null,
      "outputs": []
    },
    {
      "cell_type": "code",
      "metadata": {
        "id": "1sMC_ZQj3Mxz"
      },
      "source": [
        "plt.figure(figsize=(9, 6))\n",
        "plt.plot(lasso.coef_, 's', label=\"Lasso alpha=1\")\n",
        "plt.plot(lasso001.coef_, '^', label=\"Lasso alpha=0.01\")\n",
        "plt.plot(lasso0001.coef_, 'v', label=\"Lasso alpha=0.001\")\n",
        "plt.plot(lr.coef_, 'o', label=\"Regressão linear\")\n",
        "plt.legend(ncol=2, loc=(0, 1.05))\n",
        "plt.ylim(-25, 25)\n",
        "plt.xlabel(\"Coeficiente\")\n",
        "plt.ylabel(\"Magnitude\")"
      ],
      "execution_count": null,
      "outputs": []
    },
    {
      "cell_type": "code",
      "metadata": {
        "id": "eHkU4llsfpwe"
      },
      "source": [
        "# Extra: Procure por ElasticNet: Melhor, pior ou igual?\n"
      ],
      "execution_count": null,
      "outputs": []
    }
  ]
}